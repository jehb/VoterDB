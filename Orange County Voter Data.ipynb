{
 "cells": [
  {
   "cell_type": "markdown",
   "metadata": {},
   "source": [
    "# This is some text"
   ]
  },
  {
   "cell_type": "code",
   "execution_count": 39,
   "metadata": {
    "collapsed": false,
    "scrolled": false
   },
   "outputs": [],
   "source": [
    "import pandas as pd\n",
    "import matplotlib.pyplot as plt\n",
    "import sqlite3, os, urllib, zipfile"
   ]
  },
  {
   "cell_type": "markdown",
   "metadata": {
    "collapsed": true
   },
   "source": [
    "Download the data."
   ]
  },
  {
   "cell_type": "code",
   "execution_count": 10,
   "metadata": {
    "collapsed": false
   },
   "outputs": [],
   "source": [
    "directory = \"datadir\"\n",
    "ncboeDir = \"https://s3.amazonaws.com/dl.ncsbe.gov/data/ncvoter68.zip\"\n",
    "\n",
    "if not os.path.exists(directory):\n",
    "    os.makedirs(directory)\n",
    "    os.chdir(directory)\n",
    "    urllib.urlretrieve(ncboeDir, 'ncvoter68.zip')\n",
    "\n"
   ]
  },
  {
   "cell_type": "code",
   "execution_count": 16,
   "metadata": {
    "collapsed": false,
    "scrolled": true
   },
   "outputs": [],
   "source": [
    "zip_ref = zipfile.ZipFile('ncvoter68.zip', 'r')\n",
    "zip_ref.extractall()\n",
    "zip_ref.close()"
   ]
  },
  {
   "cell_type": "code",
   "execution_count": 27,
   "metadata": {
    "collapsed": false,
    "scrolled": true
   },
   "outputs": [],
   "source": [
    "data = pd.read_csv('ncvoter68.txt', sep='\\t')"
   ]
  },
  {
   "cell_type": "code",
   "execution_count": 21,
   "metadata": {
    "collapsed": false
   },
   "outputs": [
    {
     "name": "stdout",
     "output_type": "stream",
     "text": [
      "(128229, 71)\n"
     ]
    }
   ],
   "source": [
    "print(data.shape)"
   ]
  },
  {
   "cell_type": "code",
   "execution_count": 28,
   "metadata": {
    "collapsed": false
   },
   "outputs": [
    {
     "data": {
      "text/html": [
       "<div>\n",
       "<table border=\"1\" class=\"dataframe\">\n",
       "  <thead>\n",
       "    <tr style=\"text-align: right;\">\n",
       "      <th></th>\n",
       "      <th>county_id</th>\n",
       "      <th>county_desc</th>\n",
       "      <th>voter_reg_num</th>\n",
       "      <th>status_cd</th>\n",
       "      <th>voter_status_desc</th>\n",
       "      <th>reason_cd</th>\n",
       "      <th>voter_status_reason_desc</th>\n",
       "      <th>absent_ind</th>\n",
       "      <th>name_prefx_cd</th>\n",
       "      <th>last_name</th>\n",
       "      <th>...</th>\n",
       "      <th>munic_dist_desc</th>\n",
       "      <th>dist_1_abbrv</th>\n",
       "      <th>dist_1_desc</th>\n",
       "      <th>dist_2_abbrv</th>\n",
       "      <th>dist_2_desc</th>\n",
       "      <th>confidential_ind</th>\n",
       "      <th>age</th>\n",
       "      <th>ncid</th>\n",
       "      <th>vtd_abbrv</th>\n",
       "      <th>vtd_desc</th>\n",
       "    </tr>\n",
       "  </thead>\n",
       "  <tbody>\n",
       "    <tr>\n",
       "      <th>0</th>\n",
       "      <td>68</td>\n",
       "      <td>ORANGE</td>\n",
       "      <td>271053</td>\n",
       "      <td>I</td>\n",
       "      <td>INACTIVE</td>\n",
       "      <td>IN</td>\n",
       "      <td>CONFIRMATION NOT RETURNED</td>\n",
       "      <td></td>\n",
       "      <td></td>\n",
       "      <td>A-MUHAMMAD-EL</td>\n",
       "      <td>...</td>\n",
       "      <td>NaN</td>\n",
       "      <td>15B</td>\n",
       "      <td>15B PROSECUTORIAL</td>\n",
       "      <td></td>\n",
       "      <td></td>\n",
       "      <td>N</td>\n",
       "      <td>Age 41 - 65</td>\n",
       "      <td>DE255050</td>\n",
       "      <td>CG</td>\n",
       "      <td>CG</td>\n",
       "    </tr>\n",
       "    <tr>\n",
       "      <th>1</th>\n",
       "      <td>68</td>\n",
       "      <td>ORANGE</td>\n",
       "      <td>226774</td>\n",
       "      <td>I</td>\n",
       "      <td>INACTIVE</td>\n",
       "      <td>IU</td>\n",
       "      <td>CONFIRMATION RETURNED UNDELIVERABLE</td>\n",
       "      <td></td>\n",
       "      <td></td>\n",
       "      <td>AARHUS</td>\n",
       "      <td>...</td>\n",
       "      <td>HILLSBOROUGH</td>\n",
       "      <td>15B</td>\n",
       "      <td>15B PROSECUTORIAL</td>\n",
       "      <td></td>\n",
       "      <td></td>\n",
       "      <td>N</td>\n",
       "      <td>Age 26 - 40</td>\n",
       "      <td>DE222131</td>\n",
       "      <td>GB</td>\n",
       "      <td>GB</td>\n",
       "    </tr>\n",
       "    <tr>\n",
       "      <th>2</th>\n",
       "      <td>68</td>\n",
       "      <td>ORANGE</td>\n",
       "      <td>258913</td>\n",
       "      <td>R</td>\n",
       "      <td>REMOVED</td>\n",
       "      <td>RL</td>\n",
       "      <td>MOVED FROM COUNTY</td>\n",
       "      <td></td>\n",
       "      <td></td>\n",
       "      <td>AAROE</td>\n",
       "      <td>...</td>\n",
       "      <td>NaN</td>\n",
       "      <td>NaN</td>\n",
       "      <td>NaN</td>\n",
       "      <td></td>\n",
       "      <td></td>\n",
       "      <td>N</td>\n",
       "      <td>Age 18 - 25</td>\n",
       "      <td>BY517706</td>\n",
       "      <td>NaN</td>\n",
       "      <td>NaN</td>\n",
       "    </tr>\n",
       "    <tr>\n",
       "      <th>3</th>\n",
       "      <td>68</td>\n",
       "      <td>ORANGE</td>\n",
       "      <td>152488</td>\n",
       "      <td>I</td>\n",
       "      <td>INACTIVE</td>\n",
       "      <td>IN</td>\n",
       "      <td>CONFIRMATION NOT RETURNED</td>\n",
       "      <td></td>\n",
       "      <td></td>\n",
       "      <td>AARON</td>\n",
       "      <td>...</td>\n",
       "      <td>CHAPEL HILL</td>\n",
       "      <td>15B</td>\n",
       "      <td>15B PROSECUTORIAL</td>\n",
       "      <td></td>\n",
       "      <td></td>\n",
       "      <td>N</td>\n",
       "      <td>Age 26 - 40</td>\n",
       "      <td>DE151771</td>\n",
       "      <td>CC</td>\n",
       "      <td>CC</td>\n",
       "    </tr>\n",
       "    <tr>\n",
       "      <th>4</th>\n",
       "      <td>68</td>\n",
       "      <td>ORANGE</td>\n",
       "      <td>216701</td>\n",
       "      <td>A</td>\n",
       "      <td>ACTIVE</td>\n",
       "      <td>AV</td>\n",
       "      <td>VERIFIED</td>\n",
       "      <td></td>\n",
       "      <td></td>\n",
       "      <td>AARON</td>\n",
       "      <td>...</td>\n",
       "      <td>NaN</td>\n",
       "      <td>15B</td>\n",
       "      <td>15B PROSECUTORIAL</td>\n",
       "      <td></td>\n",
       "      <td></td>\n",
       "      <td>N</td>\n",
       "      <td>Age 41 - 65</td>\n",
       "      <td>DE212058</td>\n",
       "      <td>CS1</td>\n",
       "      <td>CS1</td>\n",
       "    </tr>\n",
       "  </tbody>\n",
       "</table>\n",
       "<p>5 rows × 71 columns</p>\n",
       "</div>"
      ],
      "text/plain": [
       "   county_id county_desc  voter_reg_num status_cd voter_status_desc reason_cd  \\\n",
       "0         68      ORANGE         271053         I          INACTIVE        IN   \n",
       "1         68      ORANGE         226774         I          INACTIVE        IU   \n",
       "2         68      ORANGE         258913         R           REMOVED        RL   \n",
       "3         68      ORANGE         152488         I          INACTIVE        IN   \n",
       "4         68      ORANGE         216701         A            ACTIVE        AV   \n",
       "\n",
       "              voter_status_reason_desc absent_ind name_prefx_cd  \\\n",
       "0            CONFIRMATION NOT RETURNED                            \n",
       "1  CONFIRMATION RETURNED UNDELIVERABLE                            \n",
       "2                    MOVED FROM COUNTY                            \n",
       "3            CONFIRMATION NOT RETURNED                            \n",
       "4                             VERIFIED                            \n",
       "\n",
       "       last_name   ...    munic_dist_desc dist_1_abbrv        dist_1_desc  \\\n",
       "0  A-MUHAMMAD-EL   ...                NaN          15B  15B PROSECUTORIAL   \n",
       "1         AARHUS   ...       HILLSBOROUGH          15B  15B PROSECUTORIAL   \n",
       "2          AAROE   ...                NaN          NaN                NaN   \n",
       "3          AARON   ...        CHAPEL HILL          15B  15B PROSECUTORIAL   \n",
       "4          AARON   ...                NaN          15B  15B PROSECUTORIAL   \n",
       "\n",
       "  dist_2_abbrv dist_2_desc confidential_ind          age      ncid vtd_abbrv  \\\n",
       "0                                         N  Age 41 - 65  DE255050        CG   \n",
       "1                                         N  Age 26 - 40  DE222131        GB   \n",
       "2                                         N  Age 18 - 25  BY517706       NaN   \n",
       "3                                         N  Age 26 - 40  DE151771        CC   \n",
       "4                                         N  Age 41 - 65  DE212058       CS1   \n",
       "\n",
       "  vtd_desc  \n",
       "0       CG  \n",
       "1       GB  \n",
       "2      NaN  \n",
       "3       CC  \n",
       "4      CS1  \n",
       "\n",
       "[5 rows x 71 columns]"
      ]
     },
     "execution_count": 28,
     "metadata": {},
     "output_type": "execute_result"
    }
   ],
   "source": [
    "data.head()"
   ]
  },
  {
   "cell_type": "code",
   "execution_count": 43,
   "metadata": {
    "collapsed": false,
    "scrolled": true
   },
   "outputs": [
    {
     "data": {
      "text/plain": [
       "precinct_abbrv       \n",
       "BC              count    2050.000000\n",
       "                mean       44.615610\n",
       "                std        18.210326\n",
       "                min        17.000000\n",
       "                25%        29.000000\n",
       "                50%        40.000000\n",
       "                75%        58.750000\n",
       "                max       101.000000\n",
       "BP              count    1074.000000\n",
       "                mean       43.952514\n",
       "                std        18.668107\n",
       "                min        17.000000\n",
       "                25%        28.000000\n",
       "                50%        39.000000\n",
       "                75%        59.000000\n",
       "                max        94.000000\n",
       "CA              count    1094.000000\n",
       "                mean       49.250457\n",
       "                std        17.401017\n",
       "                min        17.000000\n",
       "                25%        35.000000\n",
       "                50%        50.000000\n",
       "                75%        63.000000\n",
       "                max       100.000000\n",
       "CB              count    1768.000000\n",
       "                mean       42.300339\n",
       "                std        16.392703\n",
       "                min        17.000000\n",
       "                25%        29.000000\n",
       "                50%        38.000000\n",
       "                            ...     \n",
       "WD              std        17.621269\n",
       "                min        17.000000\n",
       "                25%        29.000000\n",
       "                50%        43.000000\n",
       "                75%        58.000000\n",
       "                max       108.000000\n",
       "WDS             count     471.000000\n",
       "                mean       83.675159\n",
       "                std         8.288585\n",
       "                min        21.000000\n",
       "                25%        78.500000\n",
       "                50%        84.000000\n",
       "                75%        90.000000\n",
       "                max       106.000000\n",
       "WH              count    2746.000000\n",
       "                mean       48.121267\n",
       "                std        18.296830\n",
       "                min        17.000000\n",
       "                25%        33.000000\n",
       "                50%        47.000000\n",
       "                75%        61.000000\n",
       "                max       112.000000\n",
       "WW              count    1754.000000\n",
       "                mean       39.056442\n",
       "                std        16.426146\n",
       "                min        17.000000\n",
       "                25%        26.000000\n",
       "                50%        33.000000\n",
       "                75%        51.000000\n",
       "                max       101.000000\n",
       "Name: birth_age, dtype: float64"
      ]
     },
     "execution_count": 43,
     "metadata": {},
     "output_type": "execute_result"
    }
   ],
   "source": [
    "data.groupby('precinct_abbrv').birth_age.describe(include = all)"
   ]
  },
  {
   "cell_type": "code",
   "execution_count": 41,
   "metadata": {
    "collapsed": false
   },
   "outputs": [
    {
     "data": {
      "text/plain": [
       "<matplotlib.axes._subplots.AxesSubplot at 0x7f2a9c81dc10>"
      ]
     },
     "execution_count": 41,
     "metadata": {},
     "output_type": "execute_result"
    },
    {
     "data": {
      "image/png": "[encoded data removed]",
      "text/plain": [
       "<matplotlib.figure.Figure at 0x7f2a9c899c10>"
      ]
     },
     "metadata": {},
     "output_type": "display_data"
    }
   ],
   "source": [
    "%matplotlib inline\n",
    "\n",
    "plot_df = data.birth_age\n",
    "\n",
    "plot_df.plot()\n"
   ]
  },
  {
   "cell_type": "code",
   "execution_count": null,
   "metadata": {
    "collapsed": true
   },
   "outputs": [],
   "source": []
  }
 ],
 "metadata": {
  "kernelspec": {
   "display_name": "Python 2",
   "language": "python",
   "name": "python2"
  },
  "language_info": {
   "codemirror_mode": {
    "name": "ipython",
    "version": 2
   },
   "file_extension": ".py",
   "mimetype": "text/x-python",
   "name": "python",
   "nbconvert_exporter": "python",
   "pygments_lexer": "ipython2",
   "version": "2.7.11"
  }
 },
 "nbformat": 4,
 "nbformat_minor": 0
}
